{
  "nbformat": 4,
  "nbformat_minor": 0,
  "metadata": {
    "colab": {
      "provenance": [],
      "authorship_tag": "ABX9TyODqEZB1s6bed3uRqWgwvVq",
      "include_colab_link": true
    },
    "kernelspec": {
      "name": "python3",
      "display_name": "Python 3"
    },
    "language_info": {
      "name": "python"
    }
  },
  "cells": [
    {
      "cell_type": "markdown",
      "metadata": {
        "id": "view-in-github",
        "colab_type": "text"
      },
      "source": [
        "<a href=\"https://colab.research.google.com/github/Koteswararao-1878/23CSBTB27-28/blob/main/arrays.ipynb\" target=\"_parent\"><img src=\"https://colab.research.google.com/assets/colab-badge.svg\" alt=\"Open In Colab\"/></a>"
      ]
    },
    {
      "cell_type": "code",
      "source": [],
      "metadata": {
        "id": "9oqFrqdwzUVz"
      },
      "execution_count": null,
      "outputs": []
    },
    {
      "cell_type": "code",
      "source": [
        "import numpy as np\n",
        "arry = np.array([2,8,6,7,3])\n",
        "print(arry)\n",
        "print(type(arry))"
      ],
      "metadata": {
        "colab": {
          "base_uri": "https://localhost:8080/"
        },
        "id": "R7plqQXIzgsg",
        "outputId": "537df14c-a4b2-425e-a16b-bb9a6a680288"
      },
      "execution_count": 11,
      "outputs": [
        {
          "output_type": "stream",
          "name": "stdout",
          "text": [
            "[2 8 6 7 3]\n",
            "<class 'numpy.ndarray'>\n"
          ]
        }
      ]
    },
    {
      "cell_type": "code",
      "source": [
        "import numpy as np\n",
        "arry1 = np.array({'apple','banana','orange'})\n",
        "print(arry1)\n",
        "print(type(arry1))"
      ],
      "metadata": {
        "colab": {
          "base_uri": "https://localhost:8080/"
        },
        "id": "BlECPdJCz-jn",
        "outputId": "2bf60e40-17a6-42fd-c1ac-7c42bedaf4a7"
      },
      "execution_count": 12,
      "outputs": [
        {
          "output_type": "stream",
          "name": "stdout",
          "text": [
            "{'banana', 'orange', 'apple'}\n",
            "<class 'numpy.ndarray'>\n"
          ]
        }
      ]
    },
    {
      "cell_type": "code",
      "source": [
        "import numpy as np\n",
        "arry = np.array([[2,5],[4,2]])\n",
        "arry1 = np.array([[2,5,4,2],[4,2,1,0]])\n",
        "arry2 = np.array([[2,5,4],[4,2,5],[6,7,8]])\n",
        "print(arry)\n",
        "print(arry1)\n",
        "print(arry2)"
      ],
      "metadata": {
        "colab": {
          "base_uri": "https://localhost:8080/"
        },
        "id": "MUH25Hij0g_z",
        "outputId": "866c77a1-7fae-4b64-b6a6-22e644c7cabe"
      },
      "execution_count": 13,
      "outputs": [
        {
          "output_type": "stream",
          "name": "stdout",
          "text": [
            "[[2 5]\n",
            " [4 2]]\n",
            "[[2 5 4 2]\n",
            " [4 2 1 0]]\n",
            "[[2 5 4]\n",
            " [4 2 5]\n",
            " [6 7 8]]\n"
          ]
        }
      ]
    },
    {
      "cell_type": "code",
      "source": [
        "import numpy as np\n",
        "arry1 = np.array([1,3,4,5,6])\n",
        "arry2 = np.array([2,6,3,4,8])\n",
        "print(arry1)\n",
        "print(arry2)\n",
        "print(np.add(arry1,arry2))\n",
        "print(np.subtract(arry1,arry2))\n",
        "print(type(arry1))\n",
        "print(type(arry2))"
      ],
      "metadata": {
        "colab": {
          "base_uri": "https://localhost:8080/"
        },
        "id": "gzlDzAbr0wzH",
        "outputId": "3653c3c9-a801-457f-f947-14b3070daaaa"
      },
      "execution_count": 18,
      "outputs": [
        {
          "output_type": "stream",
          "name": "stdout",
          "text": [
            "[1 3 4 5 6]\n",
            "[2 6 3 4 8]\n",
            "[ 3  9  7  9 14]\n",
            "[-1 -3  1  1 -2]\n",
            "<class 'numpy.ndarray'>\n",
            "<class 'numpy.ndarray'>\n"
          ]
        }
      ]
    }
  ]
}