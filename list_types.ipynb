{
  "nbformat": 4,
  "nbformat_minor": 0,
  "metadata": {
    "colab": {
      "provenance": [],
      "authorship_tag": "ABX9TyMFeEgKzDGKbsehsshFmBP7",
      "include_colab_link": true
    },
    "kernelspec": {
      "name": "python3",
      "display_name": "Python 3"
    },
    "language_info": {
      "name": "python"
    }
  },
  "cells": [
    {
      "cell_type": "markdown",
      "metadata": {
        "id": "view-in-github",
        "colab_type": "text"
      },
      "source": [
        "<a href=\"https://colab.research.google.com/github/Koteswararao-1878/23CSBTB27-28/blob/main/list_types.ipynb\" target=\"_parent\"><img src=\"https://colab.research.google.com/assets/colab-badge.svg\" alt=\"Open In Colab\"/></a>"
      ]
    },
    {
      "cell_type": "code",
      "source": [
        "Part 1 – Implement Basic Data Structures using Numpy,Pandas"
      ],
      "metadata": {
        "id": "RoGA375qjzYt"
      },
      "execution_count": null,
      "outputs": []
    },
    {
      "cell_type": "code",
      "source": [
        "import numpy as np\n",
        "list={1,5,2,6,7}\n",
        "list1=[3,6,1,8]\n",
        "print(list)\n",
        "print(list1)\n",
        "print(type(list))\n",
        "print(type(list1))"
      ],
      "metadata": {
        "colab": {
          "base_uri": "https://localhost:8080/"
        },
        "id": "gjxodghDj9ef",
        "outputId": "479f2896-362d-46fd-a72c-bc9a517f8803"
      },
      "execution_count": 3,
      "outputs": [
        {
          "output_type": "stream",
          "name": "stdout",
          "text": [
            "{1, 2, 5, 6, 7}\n",
            "[3, 6, 1, 8]\n",
            "<class 'set'>\n",
            "<class 'list'>\n"
          ]
        }
      ]
    },
    {
      "cell_type": "code",
      "source": [
        "list=[\"Geeks\",\"For\",\"Geeks\"]\n",
        "list1=\"my first lab\"\n",
        "list2=4.3\n",
        "list3=2j+6\n",
        "list4='My first lab'\n",
        "print(type(list))\n",
        "print(type(list1))\n",
        "print(type(list2))\n",
        "print(type(list3))\n",
        "print(type(list4))\n",
        "print(\"\\nList items:\")\n",
        "print(list[0])\n",
        "print(list[1])\n",
        "print(list[2])\n"
      ],
      "metadata": {
        "colab": {
          "base_uri": "https://localhost:8080/"
        },
        "id": "S15Rd2OTlNHV",
        "outputId": "cc240f60-fec6-4732-d344-ce93b0db554e"
      },
      "execution_count": 8,
      "outputs": [
        {
          "output_type": "stream",
          "name": "stdout",
          "text": [
            "<class 'list'>\n",
            "<class 'str'>\n",
            "<class 'float'>\n",
            "<class 'complex'>\n",
            "<class 'str'>\n",
            "\n",
            "List items:\n",
            "Geeks\n",
            "For\n",
            "Geeks\n"
          ]
        }
      ]
    },
    {
      "cell_type": "code",
      "source": [
        "List={1:\"koti\",2:\"ykr\",3:\"1878\",4:\"2005\"}\n",
        "print(\"\\nlist with the use of Mixed values; \")\n",
        "print(List)\n",
        "print(type(List))"
      ],
      "metadata": {
        "colab": {
          "base_uri": "https://localhost:8080/"
        },
        "id": "FV0X5Lckordc",
        "outputId": "640bcd2d-679e-447f-ea6f-9dfdae3df658"
      },
      "execution_count": 9,
      "outputs": [
        {
          "output_type": "stream",
          "name": "stdout",
          "text": [
            "\n",
            "list with the use of Mixed values; \n",
            "{1: 'koti', 2: 'ykr', 3: '1878', 4: '2005'}\n",
            "<class 'dict'>\n"
          ]
        }
      ]
    }
  ]
}